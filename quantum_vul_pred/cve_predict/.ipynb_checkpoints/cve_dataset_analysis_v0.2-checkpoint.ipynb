{
 "cells": [
  {
   "cell_type": "code",
   "execution_count": 1,
   "id": "b0edc448",
   "metadata": {},
   "outputs": [],
   "source": [
    "#############################\n",
    "# import necessary packages #\n",
    "#############################\n",
    "\n",
    "import os\n",
    "import time\n",
    "import pandas as pd\n",
    "import numpy as nm\n",
    "import numpy as np\n",
    "from scipy.sparse import load_npz\n",
    "\n",
    "import seaborn as sns\n",
    "import matplotlib. pyplot as plt\n",
    "from sklearn import preprocessing, metrics\n",
    "from sklearn.ensemble import AdaBoostClassifier, RandomForestClassifier\n",
    "\n",
    "#from sklearn.datasets import load_breast_cancer\n",
    "#from dwave.system.samplers import DWaveSampler\n",
    "#from dwave.system.composites import EmbeddingComposite\n",
    "#from qboost import QBoostClassifier\n",
    "\n",
    "from sklearn.svm import LinearSVC\n",
    "from sklearn.pipeline import make_pipeline\n",
    "from sklearn.preprocessing import StandardScaler\n",
    "from sklearn.datasets import make_classification\n",
    "\n",
    "from sklearn.model_selection import train_test_split\n",
    "from sklearn.svm import SVC\n",
    "from timeit import default_timer as timer\n",
    "from collections import Counter\n",
    "from sklearn.metrics import confusion_matrix\n",
    "from prepare_datasets import scompatta_dataset\n",
    "from sklearn.metrics import classification_report\n",
    "\n",
    "from sklearn import linear_model\n",
    "\n",
    "from sklearn.pipeline import make_pipeline\n",
    "from sklearn.preprocessing import StandardScaler\n",
    "from datetime import datetime\n",
    "\n",
    "from datetime import datetime\n",
    "from sklearn.metrics import classification_report\n",
    "from sklearn import metrics\n",
    "from sklearn.ensemble import AdaBoostClassifier\n",
    "\n",
    "from sys import exit\n"
   ]
  },
  {
   "cell_type": "code",
   "execution_count": 2,
   "id": "e90dbfbf",
   "metadata": {},
   "outputs": [],
   "source": [
    "def load_dataframe(dir):\n",
    "    data_filepath = os.path.join(dir, \"data.npz\")\n",
    "    index_filepath = os.path.join(dir, \"indexes.txt\")\n",
    "    cols_filepath = os.path.join(dir, \"cols.txt\")\n",
    "    coo = load_npz(data_filepath)\n",
    "    with open(index_filepath) as file:\n",
    "        indexes = file.read().splitlines()\n",
    "    with open(cols_filepath) as file:\n",
    "        cols = file.read().splitlines()\n",
    "    return pd.DataFrame.sparse.from_spmatrix(coo, index=indexes, columns=cols)"
   ]
  },
  {
   "cell_type": "code",
   "execution_count": 3,
   "id": "f73506e8",
   "metadata": {},
   "outputs": [],
   "source": [
    "def load_features(left_df, dir):\n",
    "    # Remember that this is made of SparseDType columns\n",
    "    right_df = load_dataframe(dir)\n",
    "    right_df.index.name = \"cve\"\n",
    "    print(f\"Joining Independent Variables\")\n",
    "    full_df = left_df.join(right_df, how=\"left\")\n",
    "    return full_df"
   ]
  },
  {
   "cell_type": "code",
   "execution_count": 4,
   "id": "8e99e64e",
   "metadata": {},
   "outputs": [],
   "source": [
    "def prepare_dataset_for_ml(dir):\n",
    "    nvd_filepath = \"data/cves/cves.csv\"\n",
    "    exploits_filepath = \"data/exploits/cves_exploits.csv\"\n",
    "\n",
    "    nvd_df = pd.read_csv(nvd_filepath, sep=\";\")\n",
    "    nvd_df.drop([\"pub_date\", \"description\", \"references\", \"cwe\"], axis=1, inplace=True)\n",
    "    nvd_df.set_index(\"cve\", inplace=True)\n",
    "    #print('Columns :', nvd_df.index)\n",
    "    nvd_df.rename({col: \"NVD_\" + col for col in nvd_df.columns}, axis=1, inplace=True)\n",
    "    #print('data frame :\\n', nvd_df)\n",
    "\n",
    "    #exit()\n",
    "\n",
    "    exploits_df = pd.read_csv(exploits_filepath)\n",
    "    #print(exploits_df.columns.tolist())\n",
    "    exploits_df.drop([col for col in exploits_df.columns.tolist() if col not in [\"CVE\", \"exploitable\"]], axis=1, inplace=True)\n",
    "    #print(exploits_df.columns)\n",
    "    exploits_df.drop_duplicates(subset=[\"CVE\"], inplace=True)\n",
    "    exploits_df.set_index(\"CVE\", inplace=True)\n",
    "    exploits_df.index.name = \"cve\"\n",
    "    exploits_df.rename({col: \"EDB_\" + col for col in exploits_df.columns}, axis=1, inplace=True)\n",
    "   #print(exploits_df)\n",
    "\n",
    "    #exit()\n",
    "\n",
    "    # LEFT JOIN as if no exploit was found it is treated as NOT_EXPLOITED in EDB\n",
    "    dependent_df = nvd_df.join(exploits_df, how=\"left\")\n",
    "    dependent_df[\"EDB_exploitable\"] = dependent_df[\"EDB_exploitable\"].fillna(False)\n",
    "\n",
    "    #print(dependent_df)\n",
    "    #exit()\n",
    "\n",
    "    return load_features(dependent_df, dir)"
   ]
  },
  {
   "cell_type": "code",
   "execution_count": 5,
   "id": "82c62922",
   "metadata": {},
   "outputs": [],
   "source": [
    "def scompatta_dataset(choosen):\n",
    "    if choosen == \"bow_dir\":\n",
    "        bow_dir = \"data/features/bow/\"\n",
    "        if not os.path.exists(os.path.join(bow_dir, \"data.npz\")):\n",
    "            print(\"Missing file with BoW values\")\n",
    "            exit(1)\n",
    "        bow_df = prepare_dataset_for_ml(bow_dir)\n",
    "        return bow_df\n",
    "    \n",
    "    elif choosen == \"tf_dir\":\n",
    "        tf_dir = \"data/features/tf/\"\n",
    "        if not os.path.exists(os.path.join(tf_dir, \"data.npz\")):\n",
    "            print(\"Missing file with TF values\")\n",
    "            exit(1)\n",
    "            tf_df = prepare_dataset_for_ml(tf_dir)\n",
    "        return tf_df\n",
    "\n",
    "    elif choosen == \"tfidf_dir\":\n",
    "        tfidf_dir = \"data/features/tfidf/\"\n",
    "        if not os.path.exists(os.path.join(tfidf_dir, \"data.npz\")):\n",
    "            print(\"Missing file with TF-IDF values\")\n",
    "            exit(1)\n",
    "        tfidf_df = prepare_dataset_for_ml(tfidf_dir)\n",
    "        return tfidf_df"
   ]
  },
  {
   "cell_type": "code",
   "execution_count": 6,
   "id": "5dedd39f",
   "metadata": {},
   "outputs": [],
   "source": [
    "def transform_dependent_values(y_data):\n",
    "    y_data = y_data.values.ravel()\n",
    "    y_data = np.where(y_data, 1, -1)\n",
    "\n",
    "    return y_data"
   ]
  },
  {
   "cell_type": "code",
   "execution_count": 7,
   "id": "8851df78",
   "metadata": {},
   "outputs": [
    {
     "name": "stdout",
     "output_type": "stream",
     "text": [
      "Joining Independent Variables\n",
      "*** END ***\n"
     ]
    }
   ],
   "source": [
    "if __name__ == \"__main__\":\n",
    "    bow_dir = \"data/features/bow/\"\n",
    "    tf_dir = \"data/features/tf/\"\n",
    "    tfidf_dir = \"data/features/tfidf/\"\n",
    "    if not os.path.exists(os.path.join(bow_dir, \"data.npz\")):\n",
    "        print(\"Missing file with BoW values\")\n",
    "        exit(1)\n",
    "    if not os.path.exists(os.path.join(tf_dir, \"data.npz\")):\n",
    "        print(\"Missing file with TF values\")\n",
    "        exit(1)\n",
    "    if not os.path.exists(os.path.join(tfidf_dir, \"data.npz\")):\n",
    "        print(\"Missing file with TF-IDF values\")\n",
    "        exit(1)\n",
    "    \n",
    "    #######################################################\n",
    "    # We are working here only with tfidf_df for now      #\n",
    "    #######################################################\n",
    "\n",
    "    #bow_df = prepare_dataset_for_ml(bow_dir)\n",
    "    #tf_df = prepare_dataset_for_ml(tf_dir)\n",
    "    tfidf_df = prepare_dataset_for_ml(tfidf_dir)\n",
    "\n",
    "    '''print('Cols :', bow_df.columns)\n",
    "    print('bow_df :\\n', bow_df)\n",
    "\n",
    "    print('Cols :', tf_df.columns)\n",
    "    print('tf_df :\\n', tf_df)\n",
    "\n",
    "    print('Cols :', tfidf_df.columns)\n",
    "    print('tfidf_df :\\n', tfidf_df)\n",
    "\n",
    "    print('Inizio la creazione dei csv')\n",
    "    bow_df.to_csv(r'bow_df.csv', index=False, header=True)\n",
    "    print('finito bow_df')\n",
    "    tf_df.to_csv(r'tf_df.csv', index=False, header=True)\n",
    "    print('finito td_df_df')\n",
    "    tfidf_df.to_csv(r'tfidf_df.csv', index=False, header=True)\n",
    "    print('finito tfidf_df_df')'''\n",
    "    \n",
    "    print('*** END ***')"
   ]
  },
  {
   "cell_type": "code",
   "execution_count": 8,
   "id": "af5482e5",
   "metadata": {},
   "outputs": [],
   "source": [
    "# percentage of dataset for TEST,0\n",
    "percentage = 0.20\n",
    "dataset=\"tfidf_df\""
   ]
  },
  {
   "cell_type": "code",
   "execution_count": 9,
   "id": "da87afe4",
   "metadata": {},
   "outputs": [
    {
     "data": {
      "text/plain": [
       "147936"
      ]
     },
     "execution_count": 9,
     "metadata": {},
     "output_type": "execute_result"
    }
   ],
   "source": [
    "tfidf_df.shape[0]"
   ]
  },
  {
   "cell_type": "code",
   "execution_count": 10,
   "id": "126fcbd5",
   "metadata": {},
   "outputs": [
    {
     "data": {
      "text/plain": [
       "cve\n",
       "CVE-2019-1347     True\n",
       "CVE-2015-8833    False\n",
       "CVE-2006-5284     True\n",
       "CVE-2020-3795    False\n",
       "CVE-2015-4598    False\n",
       "                 ...  \n",
       "CVE-2015-4291    False\n",
       "CVE-2006-5337    False\n",
       "CVE-2012-0870    False\n",
       "CVE-2019-6794    False\n",
       "CVE-2008-6394     True\n",
       "Name: EDB_exploitable, Length: 147936, dtype: bool"
      ]
     },
     "execution_count": 10,
     "metadata": {},
     "output_type": "execute_result"
    }
   ],
   "source": [
    "tfidf_df[\"EDB_exploitable\"]"
   ]
  },
  {
   "cell_type": "code",
   "execution_count": 11,
   "id": "89eedee0",
   "metadata": {},
   "outputs": [],
   "source": [
    "choosen=tfidf_df"
   ]
  },
  {
   "cell_type": "code",
   "execution_count": 12,
   "id": "9d2f3488",
   "metadata": {},
   "outputs": [
    {
     "name": "stdout",
     "output_type": "stream",
     "text": [
      "Creating the list of columns without the DEPENDENT variable... \n"
     ]
    }
   ],
   "source": [
    "#######################################\n",
    "# Removing label from dataset columns #\n",
    "#######################################\n",
    "\n",
    "print('Creating the list of columns without the DEPENDENT variable... ')\n",
    "cols = list(choosen.columns)\n",
    "cols.remove('EDB_exploitable')\n",
    "choosen['EDB_exploitable'] = choosen['EDB_exploitable'].astype(int)\n"
   ]
  },
  {
   "cell_type": "code",
   "execution_count": 13,
   "id": "5a80a07b",
   "metadata": {},
   "outputs": [
    {
     "data": {
      "text/html": [
       "<div>\n",
       "<style scoped>\n",
       "    .dataframe tbody tr th:only-of-type {\n",
       "        vertical-align: middle;\n",
       "    }\n",
       "\n",
       "    .dataframe tbody tr th {\n",
       "        vertical-align: top;\n",
       "    }\n",
       "\n",
       "    .dataframe thead th {\n",
       "        text-align: right;\n",
       "    }\n",
       "</style>\n",
       "<table border=\"1\" class=\"dataframe\">\n",
       "  <thead>\n",
       "    <tr style=\"text-align: right;\">\n",
       "      <th></th>\n",
       "      <th>EDB_exploitable</th>\n",
       "      <th>abil</th>\n",
       "      <th>abl</th>\n",
       "      <th>abnorm</th>\n",
       "      <th>abort</th>\n",
       "      <th>absolut</th>\n",
       "      <th>abstract</th>\n",
       "      <th>abus</th>\n",
       "      <th>ac</th>\n",
       "      <th>accept</th>\n",
       "      <th>...</th>\n",
       "      <th>yahoo</th>\n",
       "      <th>ye</th>\n",
       "      <th>year</th>\n",
       "      <th>yet</th>\n",
       "      <th>z</th>\n",
       "      <th>zdi</th>\n",
       "      <th>zero</th>\n",
       "      <th>zip</th>\n",
       "      <th>zoho</th>\n",
       "      <th>zone</th>\n",
       "    </tr>\n",
       "    <tr>\n",
       "      <th>cve</th>\n",
       "      <th></th>\n",
       "      <th></th>\n",
       "      <th></th>\n",
       "      <th></th>\n",
       "      <th></th>\n",
       "      <th></th>\n",
       "      <th></th>\n",
       "      <th></th>\n",
       "      <th></th>\n",
       "      <th></th>\n",
       "      <th></th>\n",
       "      <th></th>\n",
       "      <th></th>\n",
       "      <th></th>\n",
       "      <th></th>\n",
       "      <th></th>\n",
       "      <th></th>\n",
       "      <th></th>\n",
       "      <th></th>\n",
       "      <th></th>\n",
       "      <th></th>\n",
       "    </tr>\n",
       "  </thead>\n",
       "  <tbody>\n",
       "    <tr>\n",
       "      <th>CVE-2019-1347</th>\n",
       "      <td>1</td>\n",
       "      <td>0.0</td>\n",
       "      <td>0.0</td>\n",
       "      <td>0.0</td>\n",
       "      <td>0.0</td>\n",
       "      <td>0.0</td>\n",
       "      <td>0.0</td>\n",
       "      <td>0.0</td>\n",
       "      <td>0.0</td>\n",
       "      <td>0.0</td>\n",
       "      <td>...</td>\n",
       "      <td>0.0</td>\n",
       "      <td>0.0</td>\n",
       "      <td>0.0</td>\n",
       "      <td>0.0</td>\n",
       "      <td>0.0</td>\n",
       "      <td>0.0</td>\n",
       "      <td>0.0</td>\n",
       "      <td>0.0</td>\n",
       "      <td>0.0</td>\n",
       "      <td>0.0</td>\n",
       "    </tr>\n",
       "    <tr>\n",
       "      <th>CVE-2015-8833</th>\n",
       "      <td>0</td>\n",
       "      <td>0.0</td>\n",
       "      <td>0.0</td>\n",
       "      <td>0.0</td>\n",
       "      <td>0.0</td>\n",
       "      <td>0.0</td>\n",
       "      <td>0.0</td>\n",
       "      <td>0.0</td>\n",
       "      <td>0.0</td>\n",
       "      <td>0.0</td>\n",
       "      <td>...</td>\n",
       "      <td>0.0</td>\n",
       "      <td>0.0</td>\n",
       "      <td>0.0</td>\n",
       "      <td>0.0</td>\n",
       "      <td>0.0</td>\n",
       "      <td>0.0</td>\n",
       "      <td>0.0</td>\n",
       "      <td>0.0</td>\n",
       "      <td>0.0</td>\n",
       "      <td>0.0</td>\n",
       "    </tr>\n",
       "    <tr>\n",
       "      <th>CVE-2006-5284</th>\n",
       "      <td>1</td>\n",
       "      <td>0.0</td>\n",
       "      <td>0.0</td>\n",
       "      <td>0.0</td>\n",
       "      <td>0.0</td>\n",
       "      <td>0.0</td>\n",
       "      <td>0.0</td>\n",
       "      <td>0.0</td>\n",
       "      <td>0.0</td>\n",
       "      <td>0.0</td>\n",
       "      <td>...</td>\n",
       "      <td>0.0</td>\n",
       "      <td>0.0</td>\n",
       "      <td>0.0</td>\n",
       "      <td>0.0</td>\n",
       "      <td>0.0</td>\n",
       "      <td>0.0</td>\n",
       "      <td>0.0</td>\n",
       "      <td>0.0</td>\n",
       "      <td>0.0</td>\n",
       "      <td>0.0</td>\n",
       "    </tr>\n",
       "    <tr>\n",
       "      <th>CVE-2020-3795</th>\n",
       "      <td>0</td>\n",
       "      <td>0.0</td>\n",
       "      <td>0.0</td>\n",
       "      <td>0.0</td>\n",
       "      <td>0.0</td>\n",
       "      <td>0.0</td>\n",
       "      <td>0.0</td>\n",
       "      <td>0.0</td>\n",
       "      <td>0.0</td>\n",
       "      <td>0.0</td>\n",
       "      <td>...</td>\n",
       "      <td>0.0</td>\n",
       "      <td>0.0</td>\n",
       "      <td>0.0</td>\n",
       "      <td>0.0</td>\n",
       "      <td>0.0</td>\n",
       "      <td>0.0</td>\n",
       "      <td>0.0</td>\n",
       "      <td>0.0</td>\n",
       "      <td>0.0</td>\n",
       "      <td>0.0</td>\n",
       "    </tr>\n",
       "    <tr>\n",
       "      <th>CVE-2015-4598</th>\n",
       "      <td>0</td>\n",
       "      <td>0.0</td>\n",
       "      <td>0.0</td>\n",
       "      <td>0.0</td>\n",
       "      <td>0.0</td>\n",
       "      <td>0.0</td>\n",
       "      <td>0.0</td>\n",
       "      <td>0.0</td>\n",
       "      <td>0.0</td>\n",
       "      <td>0.0</td>\n",
       "      <td>...</td>\n",
       "      <td>0.0</td>\n",
       "      <td>0.0</td>\n",
       "      <td>0.0</td>\n",
       "      <td>0.0</td>\n",
       "      <td>0.0</td>\n",
       "      <td>0.0</td>\n",
       "      <td>0.0</td>\n",
       "      <td>0.0</td>\n",
       "      <td>0.0</td>\n",
       "      <td>0.0</td>\n",
       "    </tr>\n",
       "    <tr>\n",
       "      <th>...</th>\n",
       "      <td>...</td>\n",
       "      <td>...</td>\n",
       "      <td>...</td>\n",
       "      <td>...</td>\n",
       "      <td>...</td>\n",
       "      <td>...</td>\n",
       "      <td>...</td>\n",
       "      <td>...</td>\n",
       "      <td>...</td>\n",
       "      <td>...</td>\n",
       "      <td>...</td>\n",
       "      <td>...</td>\n",
       "      <td>...</td>\n",
       "      <td>...</td>\n",
       "      <td>...</td>\n",
       "      <td>...</td>\n",
       "      <td>...</td>\n",
       "      <td>...</td>\n",
       "      <td>...</td>\n",
       "      <td>...</td>\n",
       "      <td>...</td>\n",
       "    </tr>\n",
       "    <tr>\n",
       "      <th>CVE-2015-4291</th>\n",
       "      <td>0</td>\n",
       "      <td>0.0</td>\n",
       "      <td>0.0</td>\n",
       "      <td>0.0</td>\n",
       "      <td>0.0</td>\n",
       "      <td>0.0</td>\n",
       "      <td>0.0</td>\n",
       "      <td>0.0</td>\n",
       "      <td>0.0</td>\n",
       "      <td>0.0</td>\n",
       "      <td>...</td>\n",
       "      <td>0.0</td>\n",
       "      <td>0.0</td>\n",
       "      <td>0.0</td>\n",
       "      <td>0.0</td>\n",
       "      <td>0.0</td>\n",
       "      <td>0.0</td>\n",
       "      <td>0.0</td>\n",
       "      <td>0.0</td>\n",
       "      <td>0.0</td>\n",
       "      <td>0.0</td>\n",
       "    </tr>\n",
       "    <tr>\n",
       "      <th>CVE-2006-5337</th>\n",
       "      <td>0</td>\n",
       "      <td>0.0</td>\n",
       "      <td>0.0</td>\n",
       "      <td>0.0</td>\n",
       "      <td>0.0</td>\n",
       "      <td>0.0</td>\n",
       "      <td>0.0</td>\n",
       "      <td>0.0</td>\n",
       "      <td>0.0</td>\n",
       "      <td>0.0</td>\n",
       "      <td>...</td>\n",
       "      <td>0.0</td>\n",
       "      <td>0.0</td>\n",
       "      <td>0.0</td>\n",
       "      <td>0.0</td>\n",
       "      <td>0.0</td>\n",
       "      <td>0.0</td>\n",
       "      <td>0.0</td>\n",
       "      <td>0.0</td>\n",
       "      <td>0.0</td>\n",
       "      <td>0.0</td>\n",
       "    </tr>\n",
       "    <tr>\n",
       "      <th>CVE-2012-0870</th>\n",
       "      <td>0</td>\n",
       "      <td>0.0</td>\n",
       "      <td>0.0</td>\n",
       "      <td>0.0</td>\n",
       "      <td>0.0</td>\n",
       "      <td>0.0</td>\n",
       "      <td>0.0</td>\n",
       "      <td>0.0</td>\n",
       "      <td>0.0</td>\n",
       "      <td>0.0</td>\n",
       "      <td>...</td>\n",
       "      <td>0.0</td>\n",
       "      <td>0.0</td>\n",
       "      <td>0.0</td>\n",
       "      <td>0.0</td>\n",
       "      <td>0.0</td>\n",
       "      <td>0.0</td>\n",
       "      <td>0.0</td>\n",
       "      <td>0.0</td>\n",
       "      <td>0.0</td>\n",
       "      <td>0.0</td>\n",
       "    </tr>\n",
       "    <tr>\n",
       "      <th>CVE-2019-6794</th>\n",
       "      <td>0</td>\n",
       "      <td>0.0</td>\n",
       "      <td>0.0</td>\n",
       "      <td>0.0</td>\n",
       "      <td>0.0</td>\n",
       "      <td>0.0</td>\n",
       "      <td>0.0</td>\n",
       "      <td>0.0</td>\n",
       "      <td>0.0</td>\n",
       "      <td>0.0</td>\n",
       "      <td>...</td>\n",
       "      <td>0.0</td>\n",
       "      <td>0.0</td>\n",
       "      <td>0.0</td>\n",
       "      <td>0.0</td>\n",
       "      <td>0.0</td>\n",
       "      <td>0.0</td>\n",
       "      <td>0.0</td>\n",
       "      <td>0.0</td>\n",
       "      <td>0.0</td>\n",
       "      <td>0.0</td>\n",
       "    </tr>\n",
       "    <tr>\n",
       "      <th>CVE-2008-6394</th>\n",
       "      <td>1</td>\n",
       "      <td>0.0</td>\n",
       "      <td>0.0</td>\n",
       "      <td>0.0</td>\n",
       "      <td>0.0</td>\n",
       "      <td>0.0</td>\n",
       "      <td>0.0</td>\n",
       "      <td>0.0</td>\n",
       "      <td>0.0</td>\n",
       "      <td>0.0</td>\n",
       "      <td>...</td>\n",
       "      <td>0.0</td>\n",
       "      <td>0.0</td>\n",
       "      <td>0.0</td>\n",
       "      <td>0.0</td>\n",
       "      <td>0.0</td>\n",
       "      <td>0.0</td>\n",
       "      <td>0.0</td>\n",
       "      <td>0.0</td>\n",
       "      <td>0.0</td>\n",
       "      <td>0.0</td>\n",
       "    </tr>\n",
       "  </tbody>\n",
       "</table>\n",
       "<p>147936 rows × 2516 columns</p>\n",
       "</div>"
      ],
      "text/plain": [
       "               EDB_exploitable  abil  abl  abnorm  abort  absolut  abstract  \\\n",
       "cve                                                                           \n",
       "CVE-2019-1347                1   0.0  0.0     0.0    0.0      0.0       0.0   \n",
       "CVE-2015-8833                0   0.0  0.0     0.0    0.0      0.0       0.0   \n",
       "CVE-2006-5284                1   0.0  0.0     0.0    0.0      0.0       0.0   \n",
       "CVE-2020-3795                0   0.0  0.0     0.0    0.0      0.0       0.0   \n",
       "CVE-2015-4598                0   0.0  0.0     0.0    0.0      0.0       0.0   \n",
       "...                        ...   ...  ...     ...    ...      ...       ...   \n",
       "CVE-2015-4291                0   0.0  0.0     0.0    0.0      0.0       0.0   \n",
       "CVE-2006-5337                0   0.0  0.0     0.0    0.0      0.0       0.0   \n",
       "CVE-2012-0870                0   0.0  0.0     0.0    0.0      0.0       0.0   \n",
       "CVE-2019-6794                0   0.0  0.0     0.0    0.0      0.0       0.0   \n",
       "CVE-2008-6394                1   0.0  0.0     0.0    0.0      0.0       0.0   \n",
       "\n",
       "               abus   ac  accept  ...  yahoo   ye  year  yet    z  zdi  zero  \\\n",
       "cve                               ...                                          \n",
       "CVE-2019-1347   0.0  0.0     0.0  ...    0.0  0.0   0.0  0.0  0.0  0.0   0.0   \n",
       "CVE-2015-8833   0.0  0.0     0.0  ...    0.0  0.0   0.0  0.0  0.0  0.0   0.0   \n",
       "CVE-2006-5284   0.0  0.0     0.0  ...    0.0  0.0   0.0  0.0  0.0  0.0   0.0   \n",
       "CVE-2020-3795   0.0  0.0     0.0  ...    0.0  0.0   0.0  0.0  0.0  0.0   0.0   \n",
       "CVE-2015-4598   0.0  0.0     0.0  ...    0.0  0.0   0.0  0.0  0.0  0.0   0.0   \n",
       "...             ...  ...     ...  ...    ...  ...   ...  ...  ...  ...   ...   \n",
       "CVE-2015-4291   0.0  0.0     0.0  ...    0.0  0.0   0.0  0.0  0.0  0.0   0.0   \n",
       "CVE-2006-5337   0.0  0.0     0.0  ...    0.0  0.0   0.0  0.0  0.0  0.0   0.0   \n",
       "CVE-2012-0870   0.0  0.0     0.0  ...    0.0  0.0   0.0  0.0  0.0  0.0   0.0   \n",
       "CVE-2019-6794   0.0  0.0     0.0  ...    0.0  0.0   0.0  0.0  0.0  0.0   0.0   \n",
       "CVE-2008-6394   0.0  0.0     0.0  ...    0.0  0.0   0.0  0.0  0.0  0.0   0.0   \n",
       "\n",
       "               zip  zoho  zone  \n",
       "cve                             \n",
       "CVE-2019-1347  0.0   0.0   0.0  \n",
       "CVE-2015-8833  0.0   0.0   0.0  \n",
       "CVE-2006-5284  0.0   0.0   0.0  \n",
       "CVE-2020-3795  0.0   0.0   0.0  \n",
       "CVE-2015-4598  0.0   0.0   0.0  \n",
       "...            ...   ...   ...  \n",
       "CVE-2015-4291  0.0   0.0   0.0  \n",
       "CVE-2006-5337  0.0   0.0   0.0  \n",
       "CVE-2012-0870  0.0   0.0   0.0  \n",
       "CVE-2019-6794  0.0   0.0   0.0  \n",
       "CVE-2008-6394  0.0   0.0   0.0  \n",
       "\n",
       "[147936 rows x 2516 columns]"
      ]
     },
     "execution_count": 13,
     "metadata": {},
     "output_type": "execute_result"
    }
   ],
   "source": [
    "choosen"
   ]
  },
  {
   "cell_type": "code",
   "execution_count": 14,
   "id": "17bf3ba7",
   "metadata": {},
   "outputs": [],
   "source": [
    "###############################################\n",
    "# Split columns for Training and Test dataset #\n",
    "###############################################\n",
    "print('Splitting dataset into Training and Testing sets')\n",
    "x_train,x_test,y_train,y_test=train_test_split(choosen[cols],choosen[['EDB_exploitable']],test_size=percentage,shuffle=True)\n",
    "print('Done splitting')\n"
   ]
  },
  {
   "cell_type": "code",
   "execution_count": 17,
   "id": "96297d45",
   "metadata": {},
   "outputs": [
    {
     "data": {
      "text/html": [
       "<div>\n",
       "<style scoped>\n",
       "    .dataframe tbody tr th:only-of-type {\n",
       "        vertical-align: middle;\n",
       "    }\n",
       "\n",
       "    .dataframe tbody tr th {\n",
       "        vertical-align: top;\n",
       "    }\n",
       "\n",
       "    .dataframe thead th {\n",
       "        text-align: right;\n",
       "    }\n",
       "</style>\n",
       "<table border=\"1\" class=\"dataframe\">\n",
       "  <thead>\n",
       "    <tr style=\"text-align: right;\">\n",
       "      <th></th>\n",
       "      <th>EDB_exploitable</th>\n",
       "    </tr>\n",
       "    <tr>\n",
       "      <th>cve</th>\n",
       "      <th></th>\n",
       "    </tr>\n",
       "  </thead>\n",
       "  <tbody>\n",
       "    <tr>\n",
       "      <th>CVE-2018-8347</th>\n",
       "      <td>0</td>\n",
       "    </tr>\n",
       "    <tr>\n",
       "      <th>CVE-2009-2685</th>\n",
       "      <td>1</td>\n",
       "    </tr>\n",
       "    <tr>\n",
       "      <th>CVE-2017-12780</th>\n",
       "      <td>0</td>\n",
       "    </tr>\n",
       "    <tr>\n",
       "      <th>CVE-2013-6285</th>\n",
       "      <td>0</td>\n",
       "    </tr>\n",
       "    <tr>\n",
       "      <th>CVE-2020-3692</th>\n",
       "      <td>0</td>\n",
       "    </tr>\n",
       "    <tr>\n",
       "      <th>...</th>\n",
       "      <td>...</td>\n",
       "    </tr>\n",
       "    <tr>\n",
       "      <th>CVE-2019-14833</th>\n",
       "      <td>0</td>\n",
       "    </tr>\n",
       "    <tr>\n",
       "      <th>CVE-2014-3369</th>\n",
       "      <td>0</td>\n",
       "    </tr>\n",
       "    <tr>\n",
       "      <th>CVE-2017-16252</th>\n",
       "      <td>0</td>\n",
       "    </tr>\n",
       "    <tr>\n",
       "      <th>CVE-2007-4133</th>\n",
       "      <td>0</td>\n",
       "    </tr>\n",
       "    <tr>\n",
       "      <th>CVE-2020-0926</th>\n",
       "      <td>0</td>\n",
       "    </tr>\n",
       "  </tbody>\n",
       "</table>\n",
       "<p>29588 rows × 1 columns</p>\n",
       "</div>"
      ],
      "text/plain": [
       "                EDB_exploitable\n",
       "cve                            \n",
       "CVE-2018-8347                 0\n",
       "CVE-2009-2685                 1\n",
       "CVE-2017-12780                0\n",
       "CVE-2013-6285                 0\n",
       "CVE-2020-3692                 0\n",
       "...                         ...\n",
       "CVE-2019-14833                0\n",
       "CVE-2014-3369                 0\n",
       "CVE-2017-16252                0\n",
       "CVE-2007-4133                 0\n",
       "CVE-2020-0926                 0\n",
       "\n",
       "[29588 rows x 1 columns]"
      ]
     },
     "execution_count": 17,
     "metadata": {},
     "output_type": "execute_result"
    }
   ],
   "source": [
    "y_test"
   ]
  },
  {
   "cell_type": "code",
   "execution_count": 18,
   "id": "d1834c87",
   "metadata": {},
   "outputs": [],
   "source": [
    "###############################################\n",
    "# Convert DEPENDENT variable into values 1/-1 #\n",
    "###############################################\n",
    "\n",
    "y_train = transform_dependent_values(y_train)\n",
    "y_test = transform_dependent_values(y_test)"
   ]
  },
  {
   "cell_type": "code",
   "execution_count": 19,
   "id": "9c159eaa",
   "metadata": {},
   "outputs": [
    {
     "data": {
      "text/plain": [
       "array([-1,  1, -1, ..., -1, -1, -1])"
      ]
     },
     "execution_count": 19,
     "metadata": {},
     "output_type": "execute_result"
    }
   ],
   "source": [
    "y_test"
   ]
  },
  {
   "cell_type": "code",
   "execution_count": 39,
   "id": "83ee84ab",
   "metadata": {},
   "outputs": [
    {
     "data": {
      "text/plain": [
       "\"print('training svc model... ')\\nsvc = SVC(kernel='linear', C = 1.0)\\nstart = timer()\\nsvc.fit(x_train, y_train)\\nend = timer()\\nprint(f'SVC training time in seconds: {(end - start)}')\\ntempo = (end - start)\""
      ]
     },
     "execution_count": 39,
     "metadata": {},
     "output_type": "execute_result"
    }
   ],
   "source": [
    "################################################\n",
    "# Create svc model and fit it on training data #\n",
    "################################################\n",
    "\n",
    "##################################################\n",
    "# SVC gave problems - Sparse Matrix incompatible #\n",
    "##################################################\n",
    "\n",
    "'''print('training svc model... ')\n",
    "svc = SVC(kernel='linear', C = 1.0)\n",
    "start = timer()\n",
    "svc.fit(x_train, y_train)\n",
    "end = timer()\n",
    "print(f'SVC training time in seconds: {(end - start)}')\n",
    "tempo = (end - start)'''\n",
    "\n",
    "'''# sklearn.svm.LinearSVC\n",
    "\n",
    "#X, y = make_classification(n_features=2515, random_state=0)\n",
    "#clf = make_pipeline(StandardScaler(),LinearSVC(random_state=0, tol=1e-5))\n",
    "#clf.fit(x_train, y_train) '''"
   ]
  },
  {
   "cell_type": "code",
   "execution_count": 37,
   "id": "4293af05",
   "metadata": {},
   "outputs": [
    {
     "data": {
      "text/plain": [
       "'start = time.time()\\n# Data Training\\n# Normal / SVC\\nprint(\"Training Normal/SVC ...\")\\nclf = make_pipeline(StandardScaler(with_mean=False), SVC(gamma=\\'auto\\'))\\nclf.fit(x_train, y_train)\\nend = time.time()\\n\\ntempo_normal = end - start\\nprint(tempo_normal)'"
      ]
     },
     "execution_count": 37,
     "metadata": {},
     "output_type": "execute_result"
    }
   ],
   "source": [
    "'''start = time.time()\n",
    "# Data Training\n",
    "# Normal / SVC\n",
    "print(\"Training Normal/SVC ...\")\n",
    "clf = make_pipeline(StandardScaler(with_mean=False), SVC(gamma='auto'))\n",
    "clf.fit(x_train, y_train)\n",
    "end = time.time()\n",
    "\n",
    "tempo_normal = end - start\n",
    "print(tempo_normal)'''"
   ]
  },
  {
   "cell_type": "code",
   "execution_count": 32,
   "id": "2bc961e7",
   "metadata": {},
   "outputs": [
    {
     "name": "stdout",
     "output_type": "stream",
     "text": [
      "28.162274677000823\n"
     ]
    }
   ],
   "source": [
    "#-------------TRAIN CON ADABOOST DECOMMENTARE E COMMENTARE SVC\n",
    "nest=50\n",
    "start = timer()\n",
    "clf_AB = AdaBoostClassifier(base_estimator=None, n_estimators=nest, algorithm='SAMME.R', random_state=None)\n",
    "clf_AB.fit(x_train, y_train)\n",
    "end = timer()\n",
    "tempo_normal = end - start\n",
    "print(tempo_normal)"
   ]
  },
  {
   "cell_type": "code",
   "execution_count": 31,
   "id": "d0cbd1c4",
   "metadata": {},
   "outputs": [
    {
     "name": "stdout",
     "output_type": "stream",
     "text": [
      "44.27463453900418\n"
     ]
    }
   ],
   "source": [
    "#-------------TRAIN With Random Forest  ------------------------\n",
    "leaf_depth=20\n",
    "start = timer()\n",
    "clf_RF = RandomForestClassifier(max_depth=leaf_depth, random_state=0)\n",
    "clf_RF.fit(x_train, y_train)\n",
    "end = timer()\n",
    "tempo_normal = end - start\n",
    "print(tempo_normal)"
   ]
  },
  {
   "cell_type": "code",
   "execution_count": 34,
   "id": "cfd52112",
   "metadata": {},
   "outputs": [
    {
     "name": "stdout",
     "output_type": "stream",
     "text": [
      "Predicting on training set - AdaBoost\n",
      "Reporting...\n",
      "Saved...\n",
      "Predicting on Test set - AdaBoost\n",
      "Reporting...\n",
      "Saved...\n"
     ]
    }
   ],
   "source": [
    "# ADABOOST\n",
    "####################################\n",
    "# Predict accuracy on training set #\n",
    "####################################\n",
    "print('Predicting on training set - AdaBoost')\n",
    "predictions = clf_AB.predict(x_train)\n",
    "print(\"Reporting...\")\n",
    "report = classification_report(y_train, predictions)\n",
    "with open('report/report_' + dataset + '.txt', 'a') as f:\n",
    "    f.write('Adaboost Training Set \\n')\n",
    "    f.write(report)\n",
    "    f.write('Training Time ('+str(nest)+'):'+str(tempo_normal)+'\\n')\n",
    "    f.write('\\n')\n",
    "f.close()\n",
    "print(\"Saved...\")\n",
    "\n",
    "##################################\n",
    "# Predict results on testing set #\n",
    "##################################\n",
    "print('Predicting on Test set - AdaBoost')\n",
    "start = timer()\n",
    "predictions = clf_AB.predict(x_test)\n",
    "end = timer()\n",
    "tempo = (end - start)\n",
    "print(\"Reporting...\")\n",
    "report = classification_report(y_test, predictions)\n",
    "with open('report/report_' + dataset + '.txt', 'a') as f:\n",
    "    f.write('Adaboost Test Set \\n')\n",
    "    f.write(report)\n",
    "    f.write('Test Set Prediction Time ('+str(nest)+'):'+str(tempo)+'\\n')\n",
    "    f.write('\\n')\n",
    "f.close()\n",
    "print(\"Saved...\")\n",
    "\n"
   ]
  },
  {
   "cell_type": "code",
   "execution_count": 33,
   "id": "2246ac59",
   "metadata": {},
   "outputs": [
    {
     "name": "stdout",
     "output_type": "stream",
     "text": [
      "Predicting on Training set - Random Forest\n",
      "Reporting...\n",
      "Saved...\n",
      "Predicting on Test set - Random Forest\n",
      "Reporting...\n",
      "Saved...\n"
     ]
    }
   ],
   "source": [
    "# RANDOM FOREST\n",
    "####################################\n",
    "# Predict accuracy on training set #\n",
    "####################################\n",
    "print('Predicting on Training set - Random Forest')\n",
    "predictions = clf_RF.predict(x_train)\n",
    "print(\"Reporting...\")\n",
    "report = classification_report(y_train, predictions)\n",
    "with open('report/report_' + dataset + '.txt', 'a') as f:\n",
    "    f.write('Random Forest Training Set \\n')\n",
    "    f.write(report)\n",
    "    f.write('Training Time ('+str(leaf_depth)+'):'+str(tempo_normal)+'\\n')\n",
    "    f.write('\\n')\n",
    "f.close()\n",
    "print(\"Saved...\")\n",
    "\n",
    "##################################\n",
    "# Predict results on testing set #\n",
    "##################################\n",
    "print('Predicting on Test set - Random Forest')\n",
    "start = timer()\n",
    "predictions = clf_RF.predict(x_test)\n",
    "end = timer()\n",
    "tempo = (end - start)\n",
    "print(\"Reporting...\")\n",
    "report = classification_report(y_test, predictions)\n",
    "with open('report/report_' + dataset + '.txt', 'a') as f:\n",
    "    f.write('Random Forest Test Set \\n')\n",
    "    f.write(report)\n",
    "    f.write('Test Set Prediction Time ('+str(leaf_depth)+'):'+str(tempo)+'\\n')\n",
    "    f.write('\\n')\n",
    "f.close()\n",
    "print(\"Saved...\")"
   ]
  },
  {
   "cell_type": "code",
   "execution_count": null,
   "id": "8c024299",
   "metadata": {},
   "outputs": [],
   "source": [
    "##################\n",
    "# Define sampler #\n",
    "##################\n",
    "\n",
    "dwave_sampler = DWaveSampler()\n",
    "emb_sampler = EmbeddingComposite(dwave_sampler)\n",
    "lmd = 0.04"
   ]
  },
  {
   "cell_type": "code",
   "execution_count": null,
   "id": "27a7c4ff",
   "metadata": {},
   "outputs": [],
   "source": [
    "#####################\n",
    "# Train Qboost model #\n",
    "######################\n",
    "print('starting qboost training...')\n",
    "#parametri di classificazione di qboost\n",
    "DW_PARAMS = {'num_reads': 2,\n",
    "                'auto_scale': True,\n",
    "                # \"answer_mode\": \"histogram\",\n",
    "                'num_spin_reversal_transforms': 2,\n",
    "                # 'annealing_time': 10,\n",
    "                #'postprocess': 'optimization',\n",
    "                }\n",
    "NUM_WEAK_CLASSIFIERS = 2\n",
    "TREE_DEPTH = 1\n",
    "dwave_sampler = DWaveSampler(token=DEVtoken)\n",
    "# sa_sampler = micro.dimod.SimulatedAnnealingSampler()\n",
    "emb_sampler = EmbeddingComposite(dwave_sampler)\n",
    "lmd = 0.5\n",
    "#fine paramentri\n",
    "start = timer()\n",
    "qboost = QBoostClassifier(n_estimators=NUM_WEAK_CLASSIFIERS, max_depth=TREE_DEPTH)\n",
    "qboost.fit(x_train, y_train, emb_sampler, lmd=lmd, **DW_PARAMS)\n",
    "end = timer()\n",
    "print(f'QBoost training time in seconds: {(end - start)}')\n",
    "tempo = (end - start)\n"
   ]
  },
  {
   "cell_type": "code",
   "execution_count": null,
   "id": "92331540",
   "metadata": {},
   "outputs": [],
   "source": [
    "####################################\n",
    "# Predict accuracy on training set #\n",
    "####################################\n",
    "print('predicting on training set qboost...')\n",
    "predictions = qboost.predict(x_train) \n",
    "report = classification_report(y_train, predictions)\n",
    "# report/report.txt\n",
    "with open('report/report_' + dataset + '.txt', 'a') as f:\n",
    "    f.write(report)\n",
    "    f.write('tempo qboost training: '+str(tempo)+'\\n')\n",
    "f.close()\n",
    "print(\"saved...\")\n",
    "\n",
    "####################################\n",
    "# Predict with Qboost on test data #\n",
    "####################################\n",
    "print('predicting qboost... ')\n",
    "start = timer()\n",
    "predictions = qboost.predict(x_test)\n",
    "end = timer()\n",
    "tempo = (end - start)\n",
    "print(f'QBoost prediction time in seconds: {(end - start)}')\n",
    "report = classification_report(y_test, predictions)\n",
    "with open('report/report_' + dataset + '.txt', 'a') as f:\n",
    "    f.write(report)\n",
    "    f.write('tempo qboost testing: '+str(tempo)+'\\n')\n",
    "f.close()\n",
    "print(\"saved...\")"
   ]
  },
  {
   "cell_type": "code",
   "execution_count": 36,
   "id": "061b6693",
   "metadata": {},
   "outputs": [
    {
     "name": "stdout",
     "output_type": "stream",
     "text": [
      "\n",
      "CommandNotFoundError: Your shell has not been properly configured to use 'conda activate'.\n",
      "To initialize your shell, run\n",
      "\n",
      "    $ conda init <SHELL_NAME>\n",
      "\n",
      "Currently supported shells are:\n",
      "  - bash\n",
      "  - fish\n",
      "  - tcsh\n",
      "  - xonsh\n",
      "  - zsh\n",
      "  - powershell\n",
      "\n",
      "See 'conda init --help' for more information and options.\n",
      "\n",
      "IMPORTANT: You may need to close and restart your shell after running 'conda init'.\n",
      "\n",
      "\n",
      "\n",
      "Note: you may need to restart the kernel to use updated packages.\n"
     ]
    }
   ],
   "source": [
    "conda activate ocean"
   ]
  },
  {
   "cell_type": "code",
   "execution_count": 37,
   "id": "ddfd9492",
   "metadata": {},
   "outputs": [
    {
     "name": "stdout",
     "output_type": "stream",
     "text": [
      "Requirement already satisfied: ipykernel in /home/anibrata/anaconda3/lib/python3.9/site-packages (6.9.1)\n",
      "Requirement already satisfied: matplotlib-inline<0.2.0,>=0.1.0 in /home/anibrata/anaconda3/lib/python3.9/site-packages (from ipykernel) (0.1.2)\n",
      "Requirement already satisfied: traitlets<6.0,>=5.1.0 in /home/anibrata/anaconda3/lib/python3.9/site-packages (from ipykernel) (5.1.1)\n",
      "Requirement already satisfied: debugpy<2.0,>=1.0.0 in /home/anibrata/anaconda3/lib/python3.9/site-packages (from ipykernel) (1.5.1)\n",
      "Requirement already satisfied: jupyter-client<8.0 in /home/anibrata/anaconda3/lib/python3.9/site-packages (from ipykernel) (6.1.12)\n",
      "Requirement already satisfied: tornado<7.0,>=4.2 in /home/anibrata/anaconda3/lib/python3.9/site-packages (from ipykernel) (6.1)\n",
      "Requirement already satisfied: ipython>=7.23.1 in /home/anibrata/anaconda3/lib/python3.9/site-packages (from ipykernel) (8.2.0)\n",
      "Requirement already satisfied: nest-asyncio in /home/anibrata/anaconda3/lib/python3.9/site-packages (from ipykernel) (1.5.5)\n",
      "Requirement already satisfied: pexpect>4.3 in /home/anibrata/anaconda3/lib/python3.9/site-packages (from ipython>=7.23.1->ipykernel) (4.8.0)\n",
      "Requirement already satisfied: pickleshare in /home/anibrata/anaconda3/lib/python3.9/site-packages (from ipython>=7.23.1->ipykernel) (0.7.5)\n",
      "Requirement already satisfied: setuptools>=18.5 in /home/anibrata/anaconda3/lib/python3.9/site-packages (from ipython>=7.23.1->ipykernel) (61.2.0)\n",
      "Requirement already satisfied: decorator in /home/anibrata/anaconda3/lib/python3.9/site-packages (from ipython>=7.23.1->ipykernel) (5.1.1)\n",
      "Requirement already satisfied: stack-data in /home/anibrata/anaconda3/lib/python3.9/site-packages (from ipython>=7.23.1->ipykernel) (0.2.0)\n",
      "Requirement already satisfied: jedi>=0.16 in /home/anibrata/anaconda3/lib/python3.9/site-packages (from ipython>=7.23.1->ipykernel) (0.18.1)\n",
      "Requirement already satisfied: prompt-toolkit!=3.0.0,!=3.0.1,<3.1.0,>=2.0.0 in /home/anibrata/anaconda3/lib/python3.9/site-packages (from ipython>=7.23.1->ipykernel) (3.0.20)\n",
      "Requirement already satisfied: pygments>=2.4.0 in /home/anibrata/anaconda3/lib/python3.9/site-packages (from ipython>=7.23.1->ipykernel) (2.11.2)\n",
      "Requirement already satisfied: backcall in /home/anibrata/anaconda3/lib/python3.9/site-packages (from ipython>=7.23.1->ipykernel) (0.2.0)\n",
      "Requirement already satisfied: parso<0.9.0,>=0.8.0 in /home/anibrata/anaconda3/lib/python3.9/site-packages (from jedi>=0.16->ipython>=7.23.1->ipykernel) (0.8.3)\n",
      "Requirement already satisfied: jupyter-core>=4.6.0 in /home/anibrata/anaconda3/lib/python3.9/site-packages (from jupyter-client<8.0->ipykernel) (4.9.2)\n",
      "Requirement already satisfied: python-dateutil>=2.1 in /home/anibrata/anaconda3/lib/python3.9/site-packages (from jupyter-client<8.0->ipykernel) (2.8.2)\n",
      "Requirement already satisfied: pyzmq>=13 in /home/anibrata/anaconda3/lib/python3.9/site-packages (from jupyter-client<8.0->ipykernel) (22.3.0)\n",
      "Requirement already satisfied: ptyprocess>=0.5 in /home/anibrata/anaconda3/lib/python3.9/site-packages (from pexpect>4.3->ipython>=7.23.1->ipykernel) (0.7.0)\n",
      "Requirement already satisfied: wcwidth in /home/anibrata/anaconda3/lib/python3.9/site-packages (from prompt-toolkit!=3.0.0,!=3.0.1,<3.1.0,>=2.0.0->ipython>=7.23.1->ipykernel) (0.2.5)\n",
      "Requirement already satisfied: six>=1.5 in /home/anibrata/anaconda3/lib/python3.9/site-packages (from python-dateutil>=2.1->jupyter-client<8.0->ipykernel) (1.16.0)\n",
      "Requirement already satisfied: executing in /home/anibrata/anaconda3/lib/python3.9/site-packages (from stack-data->ipython>=7.23.1->ipykernel) (0.8.3)\n",
      "Requirement already satisfied: pure-eval in /home/anibrata/anaconda3/lib/python3.9/site-packages (from stack-data->ipython>=7.23.1->ipykernel) (0.2.2)\n",
      "Requirement already satisfied: asttokens in /home/anibrata/anaconda3/lib/python3.9/site-packages (from stack-data->ipython>=7.23.1->ipykernel) (2.0.5)\n",
      "Note: you may need to restart the kernel to use updated packages.\n"
     ]
    }
   ],
   "source": [
    "pip install --user ipykernel"
   ]
  },
  {
   "cell_type": "code",
   "execution_count": 1,
   "id": "c3758742",
   "metadata": {},
   "outputs": [
    {
     "ename": "SyntaxError",
     "evalue": "invalid syntax (915686982.py, line 1)",
     "output_type": "error",
     "traceback": [
      "\u001b[0;36m  Input \u001b[0;32mIn [1]\u001b[0;36m\u001b[0m\n\u001b[0;31m    python -m ipykernel install --user --name=ocean\u001b[0m\n\u001b[0m              ^\u001b[0m\n\u001b[0;31mSyntaxError\u001b[0m\u001b[0;31m:\u001b[0m invalid syntax\n"
     ]
    }
   ],
   "source": [
    "python -m ipykernel install --user --name=ocean"
   ]
  },
  {
   "cell_type": "code",
   "execution_count": 2,
   "id": "fbb9129d",
   "metadata": {},
   "outputs": [
    {
     "name": "stdout",
     "output_type": "stream",
     "text": [
      "no change     /home/anibrata/anaconda3/condabin/conda\n",
      "no change     /home/anibrata/anaconda3/bin/conda\n",
      "no change     /home/anibrata/anaconda3/bin/conda-env\n",
      "no change     /home/anibrata/anaconda3/bin/activate\n",
      "no change     /home/anibrata/anaconda3/bin/deactivate\n",
      "no change     /home/anibrata/anaconda3/etc/profile.d/conda.sh\n",
      "no change     /home/anibrata/anaconda3/etc/fish/conf.d/conda.fish\n",
      "no change     /home/anibrata/anaconda3/shell/condabin/Conda.psm1\n",
      "no change     /home/anibrata/anaconda3/shell/condabin/conda-hook.ps1\n",
      "no change     /home/anibrata/anaconda3/lib/python3.9/site-packages/xontrib/conda.xsh\n",
      "no change     /home/anibrata/anaconda3/etc/profile.d/conda.csh\n",
      "no change     /home/anibrata/.bashrc\n",
      "No action taken.\n",
      "\n",
      "Note: you may need to restart the kernel to use updated packages.\n"
     ]
    }
   ],
   "source": [
    "conda init bash"
   ]
  },
  {
   "cell_type": "code",
   "execution_count": 1,
   "id": "65f3ec49",
   "metadata": {},
   "outputs": [
    {
     "name": "stdout",
     "output_type": "stream",
     "text": [
      "\n",
      "CommandNotFoundError: Your shell has not been properly configured to use 'conda activate'.\n",
      "To initialize your shell, run\n",
      "\n",
      "    $ conda init <SHELL_NAME>\n",
      "\n",
      "Currently supported shells are:\n",
      "  - bash\n",
      "  - fish\n",
      "  - tcsh\n",
      "  - xonsh\n",
      "  - zsh\n",
      "  - powershell\n",
      "\n",
      "See 'conda init --help' for more information and options.\n",
      "\n",
      "IMPORTANT: You may need to close and restart your shell after running 'conda init'.\n",
      "\n",
      "\n",
      "\n",
      "Note: you may need to restart the kernel to use updated packages.\n"
     ]
    }
   ],
   "source": [
    "conda activate ocean"
   ]
  },
  {
   "cell_type": "code",
   "execution_count": 2,
   "id": "11a1a524",
   "metadata": {},
   "outputs": [
    {
     "name": "stdout",
     "output_type": "stream",
     "text": [
      "no change     /home/anibrata/anaconda3/condabin/conda\n",
      "no change     /home/anibrata/anaconda3/bin/conda\n",
      "no change     /home/anibrata/anaconda3/bin/conda-env\n",
      "no change     /home/anibrata/anaconda3/bin/activate\n",
      "no change     /home/anibrata/anaconda3/bin/deactivate\n",
      "no change     /home/anibrata/anaconda3/etc/profile.d/conda.sh\n",
      "no change     /home/anibrata/anaconda3/etc/fish/conf.d/conda.fish\n",
      "no change     /home/anibrata/anaconda3/shell/condabin/Conda.psm1\n",
      "no change     /home/anibrata/anaconda3/shell/condabin/conda-hook.ps1\n",
      "no change     /home/anibrata/anaconda3/lib/python3.9/site-packages/xontrib/conda.xsh\n",
      "no change     /home/anibrata/anaconda3/etc/profile.d/conda.csh\n",
      "no change     /home/anibrata/.bashrc\n",
      "No action taken.\n",
      "\n",
      "Note: you may need to restart the kernel to use updated packages.\n"
     ]
    }
   ],
   "source": [
    "conda init"
   ]
  },
  {
   "cell_type": "code",
   "execution_count": 7,
   "id": "9e4b7a7d",
   "metadata": {},
   "outputs": [
    {
     "name": "stdout",
     "output_type": "stream",
     "text": [
      "Collecting package metadata (current_repodata.json): done\n",
      "Solving environment: done\n",
      "\n",
      "## Package Plan ##\n",
      "\n",
      "  environment location: /home/anibrata/anaconda3/envs/dwave\n",
      "\n",
      "\n",
      "\n",
      "Proceed ([y]/n)? ^C\n",
      "\n",
      "CondaSystemExit: \n",
      "Operation aborted.  Exiting.\n",
      "\n",
      "\n",
      "Note: you may need to restart the kernel to use updated packages.\n"
     ]
    }
   ],
   "source": [
    "conda create -n dwave"
   ]
  },
  {
   "cell_type": "code",
   "execution_count": 8,
   "id": "6ae6028d",
   "metadata": {},
   "outputs": [
    {
     "name": "stdout",
     "output_type": "stream",
     "text": [
      "\n",
      "CommandNotFoundError: Your shell has not been properly configured to use 'conda activate'.\n",
      "To initialize your shell, run\n",
      "\n",
      "    $ conda init <SHELL_NAME>\n",
      "\n",
      "Currently supported shells are:\n",
      "  - bash\n",
      "  - fish\n",
      "  - tcsh\n",
      "  - xonsh\n",
      "  - zsh\n",
      "  - powershell\n",
      "\n",
      "See 'conda init --help' for more information and options.\n",
      "\n",
      "IMPORTANT: You may need to close and restart your shell after running 'conda init'.\n",
      "\n",
      "\n",
      "\n",
      "Note: you may need to restart the kernel to use updated packages.\n"
     ]
    }
   ],
   "source": [
    "conda activate dwave"
   ]
  },
  {
   "cell_type": "code",
   "execution_count": 9,
   "id": "d1fa8f54",
   "metadata": {},
   "outputs": [
    {
     "ename": "SyntaxError",
     "evalue": "invalid syntax (821955204.py, line 1)",
     "output_type": "error",
     "traceback": [
      "\u001b[0;36m  Input \u001b[0;32mIn [9]\u001b[0;36m\u001b[0m\n\u001b[0;31m    python -m ipykernel install --user --name=dwave\u001b[0m\n\u001b[0m              ^\u001b[0m\n\u001b[0;31mSyntaxError\u001b[0m\u001b[0;31m:\u001b[0m invalid syntax\n"
     ]
    }
   ],
   "source": [
    "python -m ipykernel install --user --name=dwave"
   ]
  },
  {
   "cell_type": "code",
   "execution_count": 10,
   "id": "1e1c5de7",
   "metadata": {},
   "outputs": [
    {
     "name": "stdout",
     "output_type": "stream",
     "text": [
      "Requirement already satisfied: ipykernel in /home/anibrata/anaconda3/lib/python3.9/site-packages (6.9.1)\n",
      "Requirement already satisfied: ipython>=7.23.1 in /home/anibrata/anaconda3/lib/python3.9/site-packages (from ipykernel) (8.2.0)\n",
      "Requirement already satisfied: debugpy<2.0,>=1.0.0 in /home/anibrata/anaconda3/lib/python3.9/site-packages (from ipykernel) (1.5.1)\n",
      "Requirement already satisfied: traitlets<6.0,>=5.1.0 in /home/anibrata/anaconda3/lib/python3.9/site-packages (from ipykernel) (5.1.1)\n",
      "Requirement already satisfied: tornado<7.0,>=4.2 in /home/anibrata/anaconda3/lib/python3.9/site-packages (from ipykernel) (6.1)\n",
      "Requirement already satisfied: jupyter-client<8.0 in /home/anibrata/anaconda3/lib/python3.9/site-packages (from ipykernel) (6.1.12)\n",
      "Requirement already satisfied: matplotlib-inline<0.2.0,>=0.1.0 in /home/anibrata/anaconda3/lib/python3.9/site-packages (from ipykernel) (0.1.2)\n",
      "Requirement already satisfied: nest-asyncio in /home/anibrata/anaconda3/lib/python3.9/site-packages (from ipykernel) (1.5.5)\n",
      "Requirement already satisfied: decorator in /home/anibrata/anaconda3/lib/python3.9/site-packages (from ipython>=7.23.1->ipykernel) (5.1.1)\n",
      "Requirement already satisfied: pygments>=2.4.0 in /home/anibrata/anaconda3/lib/python3.9/site-packages (from ipython>=7.23.1->ipykernel) (2.11.2)\n",
      "Requirement already satisfied: prompt-toolkit!=3.0.0,!=3.0.1,<3.1.0,>=2.0.0 in /home/anibrata/anaconda3/lib/python3.9/site-packages (from ipython>=7.23.1->ipykernel) (3.0.20)\n",
      "Requirement already satisfied: backcall in /home/anibrata/anaconda3/lib/python3.9/site-packages (from ipython>=7.23.1->ipykernel) (0.2.0)\n",
      "Requirement already satisfied: pexpect>4.3 in /home/anibrata/anaconda3/lib/python3.9/site-packages (from ipython>=7.23.1->ipykernel) (4.8.0)\n",
      "Requirement already satisfied: setuptools>=18.5 in /home/anibrata/anaconda3/lib/python3.9/site-packages (from ipython>=7.23.1->ipykernel) (61.2.0)\n",
      "Requirement already satisfied: jedi>=0.16 in /home/anibrata/anaconda3/lib/python3.9/site-packages (from ipython>=7.23.1->ipykernel) (0.18.1)\n",
      "Requirement already satisfied: stack-data in /home/anibrata/anaconda3/lib/python3.9/site-packages (from ipython>=7.23.1->ipykernel) (0.2.0)\n",
      "Requirement already satisfied: pickleshare in /home/anibrata/anaconda3/lib/python3.9/site-packages (from ipython>=7.23.1->ipykernel) (0.7.5)\n",
      "Requirement already satisfied: parso<0.9.0,>=0.8.0 in /home/anibrata/anaconda3/lib/python3.9/site-packages (from jedi>=0.16->ipython>=7.23.1->ipykernel) (0.8.3)\n",
      "Requirement already satisfied: jupyter-core>=4.6.0 in /home/anibrata/anaconda3/lib/python3.9/site-packages (from jupyter-client<8.0->ipykernel) (4.9.2)\n",
      "Requirement already satisfied: pyzmq>=13 in /home/anibrata/anaconda3/lib/python3.9/site-packages (from jupyter-client<8.0->ipykernel) (22.3.0)\n",
      "Requirement already satisfied: python-dateutil>=2.1 in /home/anibrata/anaconda3/lib/python3.9/site-packages (from jupyter-client<8.0->ipykernel) (2.8.2)\n",
      "Requirement already satisfied: ptyprocess>=0.5 in /home/anibrata/anaconda3/lib/python3.9/site-packages (from pexpect>4.3->ipython>=7.23.1->ipykernel) (0.7.0)\n",
      "Requirement already satisfied: wcwidth in /home/anibrata/anaconda3/lib/python3.9/site-packages (from prompt-toolkit!=3.0.0,!=3.0.1,<3.1.0,>=2.0.0->ipython>=7.23.1->ipykernel) (0.2.5)\n",
      "Requirement already satisfied: six>=1.5 in /home/anibrata/anaconda3/lib/python3.9/site-packages (from python-dateutil>=2.1->jupyter-client<8.0->ipykernel) (1.16.0)\n",
      "Requirement already satisfied: pure-eval in /home/anibrata/anaconda3/lib/python3.9/site-packages (from stack-data->ipython>=7.23.1->ipykernel) (0.2.2)\n",
      "Requirement already satisfied: executing in /home/anibrata/anaconda3/lib/python3.9/site-packages (from stack-data->ipython>=7.23.1->ipykernel) (0.8.3)\n",
      "Requirement already satisfied: asttokens in /home/anibrata/anaconda3/lib/python3.9/site-packages (from stack-data->ipython>=7.23.1->ipykernel) (2.0.5)\n",
      "Note: you may need to restart the kernel to use updated packages.\n"
     ]
    }
   ],
   "source": [
    "pip install --user ipykernel"
   ]
  },
  {
   "cell_type": "code",
   "execution_count": 1,
   "id": "d23ed7bb",
   "metadata": {},
   "outputs": [
    {
     "ename": "SyntaxError",
     "evalue": "invalid syntax (821955204.py, line 1)",
     "output_type": "error",
     "traceback": [
      "\u001b[0;36m  Input \u001b[0;32mIn [1]\u001b[0;36m\u001b[0m\n\u001b[0;31m    python -m ipykernel install --user --name=dwave\u001b[0m\n\u001b[0m              ^\u001b[0m\n\u001b[0;31mSyntaxError\u001b[0m\u001b[0;31m:\u001b[0m invalid syntax\n"
     ]
    }
   ],
   "source": [
    "python -m ipykernel install --user --name=dwave"
   ]
  },
  {
   "cell_type": "code",
   "execution_count": null,
   "id": "a16bb4b5",
   "metadata": {},
   "outputs": [],
   "source": []
  }
 ],
 "metadata": {
  "kernelspec": {
   "display_name": "Python 3 (ipykernel)",
   "language": "python",
   "name": "python3"
  },
  "language_info": {
   "codemirror_mode": {
    "name": "ipython",
    "version": 3
   },
   "file_extension": ".py",
   "mimetype": "text/x-python",
   "name": "python",
   "nbconvert_exporter": "python",
   "pygments_lexer": "ipython3",
   "version": "3.9.12"
  }
 },
 "nbformat": 4,
 "nbformat_minor": 5
}
